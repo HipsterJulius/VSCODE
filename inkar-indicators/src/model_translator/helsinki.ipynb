{
 "cells": [
  {
   "cell_type": "code",
   "execution_count": null,
   "metadata": {},
   "outputs": [],
   "source": [
    "from transformers import pipeline"
   ]
  },
  {
   "cell_type": "code",
   "execution_count": null,
   "metadata": {},
   "outputs": [],
   "source": [
    "\n",
    "# Load model directly\n",
    "from transformers import AutoTokenizer, AutoModelForSeq2SeqLM\n",
    "\n",
    "tokenizer = AutoTokenizer.from_pretrained(\"Helsinki-NLP/opus-mt-de-en\")\n",
    "model = AutoModelForSeq2SeqLM.from_pretrained(\"Helsinki-NLP/opus-mt-de-en\")\n"
   ]
  },
  {
   "cell_type": "code",
   "execution_count": null,
   "metadata": {},
   "outputs": [],
   "source": [
    "german_text = \"Gesamtfläche\"\n",
    "\n",
    "input_ids = tokenizer.encode(german_text, return_tensors=\"pt\")\n",
    "\n",
    "output = model.generate(input_ids)\n",
    "\n",
    "english_translation = tokenizer.decode(output[0], skip_special_tokens=True)\n",
    "\n",
    "print(\"Deutsch:\", german_text)\n",
    "print(\"Englisch:\", english_translation)"
   ]
  },
  {
   "cell_type": "code",
   "execution_count": null,
   "metadata": {},
   "outputs": [],
   "source": [
    "import pandas as pd\n",
    "import numpy as np\n",
    "\n",
    "inkar = pd.read_csv(\"../../data/inkar_2022.csv\",sep=\";\",decimal=\",\",dtype={'Kennziffer':str,'Kennziffer_EU':str,'Name':str}, low_memory=False)\n",
    "inkar.head()"
   ]
  },
  {
   "cell_type": "code",
   "execution_count": null,
   "metadata": {},
   "outputs": [],
   "source": [
    "raumbezug_selection = [\"Kreise\",\"Gemeinden\", \"Gemeindeverbände\"]\n",
    "temp = inkar[inkar['Raumbezug'].isin(raumbezug_selection)]\n",
    "\n",
    "menu = temp.groupby(['Bereich','Indikator','ID']).aggregate({'Zeitbezug':['min','max']})\n",
    "menu.columns = [\"_\".join(a) for a in menu.columns.to_flat_index()]\n",
    "menu = menu.merge(temp.pivot_table(index=['Bereich','Indikator','ID'], columns='Raumbezug',values='Kennziffer',aggfunc=np.count_nonzero),left_index=True,right_index=True)\n",
    "\n",
    "for column in raumbezug_selection:\n",
    "    menu[column] = (menu[column]>0).replace({True: 'X', False: \"\"})\n",
    "\n",
    "menu = menu.assign(\n",
    "    select=\"\",\n",
    "    category=\"\",\n",
    "    category_de=menu.index.get_level_values('Bereich'),\n",
    "    category_nl=\"\",\n",
    "    name=\"\",\n",
    "    name_de=menu.index.get_level_values('Indikator'),\n",
    "    name_nl=\"\",\n",
    "    source_de=\"Inkar\",\n",
    "    source_id_de=menu.index.get_level_values('ID'),\n",
    "    source_nl=\"\",\n",
    "    source_id_nl=\"\",\n",
    ")\n",
    "\n",
    "column_order = ['select', 'category', 'category_de', 'category_nl', 'name', 'name_de', 'name_nl', 'source_de', 'source_id_de', 'source_nl', 'source_id_nl', 'Zeitbezug_min', 'Zeitbezug_max', 'Gemeinden', 'Gemeindeverbände', 'Kreise']\n",
    "menu = menu[column_order]\n",
    "\n",
    "menu.reset_index(inplace=True, drop=True)\n",
    "menu"
   ]
  },
  {
   "cell_type": "code",
   "execution_count": null,
   "metadata": {},
   "outputs": [],
   "source": [
    "for index in menu.index:\n",
    "    german_text = menu['category_de'][index]\n",
    "\n",
    "    input_ids = tokenizer.encode(german_text, return_tensors=\"pt\")\n",
    "    output = model.generate(input_ids)\n",
    "    english_translation = tokenizer.decode(output[0], skip_special_tokens=True)\n",
    "\n",
    "    menu['category'][index] = english_translation\n",
    "    print(menu['category'][index])\n",
    "\n",
    "print(menu['category'])\n",
    "\n"
   ]
  },
  {
   "cell_type": "code",
   "execution_count": null,
   "metadata": {},
   "outputs": [],
   "source": [
    "for index in menu.index:\n",
    "    print(index)\n",
    "    german_text = menu['name_de'][index]\n",
    "\n",
    "    input_ids = tokenizer.encode(german_text, return_tensors=\"pt\")\n",
    "    output = model.generate(input_ids)\n",
    "    english_translation = tokenizer.decode(output[0], skip_special_tokens=True)\n",
    "\n",
    "    menu['name'][index] = english_translation"
   ]
  },
  {
   "cell_type": "code",
   "execution_count": null,
   "metadata": {},
   "outputs": [],
   "source": [
    "menu.head()\n",
    "menu.to_excel(\"C:/Users/juliu/VSCODE/VSCODE/inkar-indicators/src/out/output.xlsx\", index=True)\n"
   ]
  },
  {
   "cell_type": "code",
   "execution_count": null,
   "metadata": {},
   "outputs": [],
   "source": [
    "import pandas as pd\n",
    "\n",
    "inkar_übersicht = pd.read_csv(\"übersicht.csv\",sep=\";\",decimal=\",\", low_memory=False)\n",
    "inkar_übersicht\n",
    "\n",
    "columns = inkar_übersicht.columns\n",
    "for col in columns:\n",
    "    print(col)"
   ]
  },
  {
   "cell_type": "code",
   "execution_count": null,
   "metadata": {},
   "outputs": [],
   "source": [
    "\n",
    "for index, ind in zip(inkar_übersicht.index, menu.index):\n",
    "    if (index == 0 or index == 1 or index == 2):\n",
    "        continue\n",
    "    print(index)\n",
    "    beschreibung = inkar_übersicht['Unnamed: 5'][index]\n",
    "    german_text = menu['name_de'][ind]\n",
    "\n",
    "    text_all = str(beschreibung) + \" \" + german_text\n",
    "\n",
    "    input_ids = tokenizer.encode(text_all, return_tensors=\"pt\")\n",
    "    output = model.generate(input_ids)\n",
    "    english_translation = tokenizer.decode(output[0], skip_special_tokens=True)\n",
    "\n",
    "    menu['name'][index] = english_translation"
   ]
  },
  {
   "cell_type": "code",
   "execution_count": null,
   "metadata": {},
   "outputs": [],
   "source": [
    "for index in inkar_übersicht.index:\n",
    "    if (index == 0 or index == 1 or index == 2):\n",
    "        continue\n",
    "    print(index)\n",
    "    beschreibung = inkar_übersicht['Unnamed: 5'][index]\n",
    "    name_beschreibung = inkar_übersicht['INKAR 2022 – Indikatorenübersicht:   Raumbeobachtung Deutschland'][index]\n",
    "    print(name_beschreibung)\n",
    "    for index in menu.index:\n",
    "        german_text = menu['name_de'][index]\n",
    "        if(name_beschreibung == german_text):\n",
    "            print(name_beschreibung + \" \" + german_text)\n",
    "            text_all = str(beschreibung) + \" \" + german_text  \n",
    "            input_ids = tokenizer.encode(text_all, return_tensors=\"pt\")\n",
    "            output = model.generate(input_ids)\n",
    "            english_translation = tokenizer.decode(output[0], skip_special_tokens=True)\n",
    "            menu['name'][index] = english_translation"
   ]
  },
  {
   "cell_type": "code",
   "execution_count": null,
   "metadata": {},
   "outputs": [],
   "source": [
    "menu.head()\n",
    "menu.to_excel(\"C:/Users/juliu/VSCODE/VSCODE/inkar-indicators/src/out/output_beschreibung.xlsx\", index=True)"
   ]
  }
 ],
 "metadata": {
  "kernelspec": {
   "display_name": ".venv",
   "language": "python",
   "name": "python3"
  },
  "language_info": {
   "codemirror_mode": {
    "name": "ipython",
    "version": 3
   },
   "file_extension": ".py",
   "mimetype": "text/x-python",
   "name": "python",
   "nbconvert_exporter": "python",
   "pygments_lexer": "ipython3",
   "version": "3.8.10"
  }
 },
 "nbformat": 4,
 "nbformat_minor": 2
}
