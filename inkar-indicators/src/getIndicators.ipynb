{
 "cells": [
  {
   "cell_type": "code",
   "execution_count": null,
   "metadata": {},
   "outputs": [],
   "source": [
    "\n",
    "import pandas as pd\n",
    "import numpy as np"
   ]
  },
  {
   "cell_type": "code",
   "execution_count": null,
   "metadata": {},
   "outputs": [],
   "source": [
    "inkar = pd.read_csv(\"../data/inkar_2022.csv\",sep=\";\",decimal=\",\",dtype={'Kennziffer':str,'Kennziffer_EU':str,'Name':str}, low_memory=False)\n",
    "inkar.head()\n"
   ]
  },
  {
   "cell_type": "code",
   "execution_count": null,
   "metadata": {},
   "outputs": [],
   "source": [
    "indicators = inkar.Indikator.unique()\n",
    "categorys = inkar.Bereich.unique()\n",
    "ids = inkar.ID.unique()\n",
    "#print(indicators)\n",
    "#print(categorys)\n",
    "#print(ids)\n",
    "zeit = inkar.Zeitbezug.unique()\n",
    "raumbezug = inkar.Raumbezug.unique()\n",
    "\n",
    "print(raumbezug)"
   ]
  },
  {
   "cell_type": "code",
   "execution_count": null,
   "metadata": {},
   "outputs": [],
   "source": [
    "\n",
    "# Wähle nur Daten aus, die entweder \"Kreise\" oder \"Gemeinden\" als Raumbezug haben\n",
    "raumbezug_selection = [\"Kreise\", \"Gemeinden\"]\n",
    "temp = inkar[inkar['Raumbezug'].isin(raumbezug_selection)]\n",
    "\n",
    "zeitbezug_min_max = temp.groupby(['Bereich', 'ID', 'Indikator', 'Raumbezug'])['Zeitbezug'].agg([('min', 'min'), ('max', 'max')])\n",
    "\n",
    "zeitbezug = pd.pivot_table(zeitbezug_min_max, index=['Bereich', 'ID', 'Indikator'], columns='Raumbezug', values=['min', 'max']).reset_index()\n",
    "\n",
    "zeitbezug.columns = ['Bereich', 'ID', 'Indikator', 'Min_Gemeinden', 'Min_Kreise', 'Max_Gemeinden', 'Max_Kreise']\n",
    "\n",
    "zeitbezug['Zeitbezug_Gemeinden'] = zeitbezug.apply(lambda row: f\"{int(row['Max_Gemeinden'])} - {int(row['Min_Gemeinden'])}\" if not pd.isna(row['Min_Gemeinden']) and not pd.isna(row['Max_Gemeinden']) else '', axis=1)\n",
    "zeitbezug['Zeitbezug_Kreise'] = zeitbezug.apply(lambda row: f\"{int(row['Max_Kreise'])} - {int(row['Min_Kreise'])}\" if not pd.isna(row['Min_Kreise']) and not pd.isna(row['Max_Kreise']) else '', axis=1)\n",
    "\n",
    "zeitbezug['Gemeinden'] = zeitbezug['Max_Gemeinden'].apply(lambda x: 'X' if not pd.isna(x) else '')\n",
    "zeitbezug['Kreise'] = zeitbezug['Max_Kreise'].apply(lambda x: 'X' if not pd.isna(x) else '')\n",
    "\n",
    "data = zeitbezug[['Bereich', 'ID', 'Indikator', 'Gemeinden', 'Kreise', 'Zeitbezug_Gemeinden', 'Zeitbezug_Kreise']]\n",
    "\n",
    "data\n",
    "\n",
    "\n",
    "\n",
    "\n",
    "#zeitbezug_min_max_table.to_csv(\"C:/Users/juliu/VSCODE/VSCODE/inkar-indicators/src/out/zeitbezug3.csv\")\n"
   ]
  },
  {
   "cell_type": "code",
   "execution_count": null,
   "metadata": {},
   "outputs": [],
   "source": [
    "\n",
    "\n",
    "data = data.assign(\n",
    "    select=\"\",\n",
    "    category=\"\",\n",
    "    category_de=data['Bereich'],\n",
    "    category_nl=\"\",\n",
    "    name=\"\",\n",
    "    name_de=data['Indikator'],\n",
    "    algorithmus=\"\",\n",
    "    description=\"\",\n",
    "    statistical_basis=\"\",\n",
    "    name_nl=\"\",\n",
    "    source_de=\"Inkar\",\n",
    "    source_id_de=data['ID'],\n",
    "    source_nl=\"\",\n",
    "    source_id_nl=\"\",\n",
    "    gemeinden=data['Gemeinden'],\n",
    "    kreise=data['Kreise'],\n",
    "    zeitbezug_gemeinden=data['Zeitbezug_Gemeinden'],\n",
    "    zeitbezug_kreise=data['Zeitbezug_Kreise'],\n",
    ")\n",
    "\n",
    "column_order = ['select', 'category', 'category_de', 'category_nl', 'name', 'name_de', \"algorithmus\", \"description\", \"statistical_basis\", 'name_nl', 'source_de', 'source_id_de', 'source_nl', 'source_id_nl', 'gemeinden', 'kreise', 'zeitbezug_gemeinden', 'zeitbezug_kreise']\n",
    "data = data[column_order]\n",
    "\n",
    "data.reset_index(inplace=True, drop=True)\n",
    "\n",
    "data.to_csv(\"C:/Users/juliu/VSCODE/VSCODE/inkar-indicators/src/out/new.csv\")"
   ]
  },
  {
   "cell_type": "code",
   "execution_count": null,
   "metadata": {},
   "outputs": [],
   "source": []
  },
  {
   "cell_type": "code",
   "execution_count": null,
   "metadata": {},
   "outputs": [],
   "source": [
    "# OLD OLD OLD OLD OLD OLD OLD\n",
    "\n",
    "raumbezug_selection = [\"Kreise\",\"Gemeinden\", \"Gemeindeverbände\"]\n",
    "temp = inkar[inkar['Raumbezug'].isin(raumbezug_selection)]\n",
    "\n",
    "menu = temp.groupby(['Bereich','Indikator','ID']).aggregate({'Zeitbezug':['min','max']})\n",
    "menu.columns = [\"_\".join(a) for a in menu.columns.to_flat_index()]\n",
    "menu = menu.merge(temp.pivot_table(index=['Bereich','Indikator','ID'], columns='Raumbezug',values='Kennziffer',aggfunc=np.count_nonzero),left_index=True,right_index=True)\n",
    "\n",
    "for column in raumbezug_selection:\n",
    "    menu[column] = (menu[column]>0).replace({True: 'X', False: \"\"})\n",
    "\n",
    "print(menu.index.get_level_values('Bereich'))\n",
    "\n",
    "menu = menu.assign(\n",
    "    select=\"\",\n",
    "    category=\"\",\n",
    "    category_de=menu.index.get_level_values('Bereich'),\n",
    "    category_nl=\"\",\n",
    "    name=\"\",\n",
    "    name_de=menu.index.get_level_values('Indikator'),\n",
    "    algorithmus=\"\",\n",
    "    description=\"\",\n",
    "    statistical_basis=\"\",\n",
    "    name_nl=\"\",\n",
    "    source_de=\"Inkar\",\n",
    "    source_id_de=menu.index.get_level_values('ID'),\n",
    "    source_nl=\"\",\n",
    "    source_id_nl=\"\",\n",
    ")\n",
    "\n",
    "column_order = ['select', 'category', 'category_de', 'category_nl', 'name', 'name_de', \"algorithmus\", \"description\", \"statistical_basis\", 'name_nl', 'source_de', 'source_id_de', 'source_nl', 'source_id_nl', 'Zeitbezug_min', 'Zeitbezug_max', 'Gemeinden', 'Gemeindeverbände', 'Kreise']\n",
    "menu = menu[column_order]\n",
    "\n",
    "menu.reset_index(inplace=True, drop=True)\n",
    "\n",
    "#menu.to_csv(\"C:/Users/juliu/VSCODE/VSCODE/inkar-indicators/src/out/menu.csv\")\n",
    "#menu.to_excel(\"C:/Users/juliu/VSCODE/VSCODE/inkar-indicators/src/out/output1.xlsx\", index=False)\n",
    "menu\n",
    "\n"
   ]
  }
 ],
 "metadata": {
  "kernelspec": {
   "display_name": "Python 3",
   "language": "python",
   "name": "python3"
  },
  "language_info": {
   "codemirror_mode": {
    "name": "ipython",
    "version": 3
   },
   "file_extension": ".py",
   "mimetype": "text/x-python",
   "name": "python",
   "nbconvert_exporter": "python",
   "pygments_lexer": "ipython3",
   "version": "3.8.10"
  }
 },
 "nbformat": 4,
 "nbformat_minor": 2
}
